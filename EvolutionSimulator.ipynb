{
  "nbformat": 4,
  "nbformat_minor": 0,
  "metadata": {
    "colab": {
      "name": "EvolutionSimulator.ipynb",
      "provenance": [],
      "authorship_tag": "ABX9TyNDAyRWVvgKMt19eoGxIK8U",
      "include_colab_link": true
    },
    "kernelspec": {
      "name": "python3",
      "display_name": "Python 3"
    },
    "language_info": {
      "name": "python"
    }
  },
  "cells": [
    {
      "cell_type": "markdown",
      "metadata": {
        "id": "view-in-github",
        "colab_type": "text"
      },
      "source": [
        "<a href=\"https://colab.research.google.com/github/OnderKaratas/EvolutionSimulator/blob/main/EvolutionSimulator.ipynb\" target=\"_parent\"><img src=\"https://colab.research.google.com/assets/colab-badge.svg\" alt=\"Open In Colab\"/></a>"
      ]
    },
    {
      "cell_type": "code",
      "execution_count": null,
      "metadata": {
        "colab": {
          "base_uri": "https://localhost:8080/",
          "height": 217
        },
        "id": "zkj-o-cJhQ8g",
        "outputId": "d774afe7-469a-4566-fb04-1bea1faaaf60"
      },
      "outputs": [
        {
          "output_type": "display_data",
          "data": {
            "text/plain": [
              "<PIL.Image.Image image mode=RGB size=200x200 at 0x7FB994893E50>"
            ],
            "image/png": "[encoded data removed]"
          },
          "metadata": {}
        }
      ],
      "source": [
        "import tensorflow as tf\n",
        "from matplotlib import pyplot as plt\n",
        "import numpy as np\n",
        "from PIL import Image\n",
        "\n",
        "img=Image.new(\"RGB\",(200,200),(255,255,255))\n",
        "number_of_genes=16\n",
        "class Creature:\n",
        "  location=[0,0]\n",
        "  genome=\"\"*number_of_genes\n",
        "\n",
        "display(img)\n",
        "\n"
      ]
    }
  ]
}